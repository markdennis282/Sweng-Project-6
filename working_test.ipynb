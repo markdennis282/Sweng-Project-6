{
 "cells": [
  {
   "cell_type": "code",
   "execution_count": 10,
   "metadata": {
    "ExecuteTime": {
     "end_time": "2024-02-07T14:25:38.411906800Z",
     "start_time": "2024-02-07T14:25:38.347130700Z"
    }
   },
   "outputs": [],
   "source": [
    "from llama_index import SimpleDirectoryReader, ServiceContext\n",
    "from llama_index.embeddings import HuggingFaceEmbedding\n",
    "from llama_index.node_parser.text import SentenceSplitter\n",
    "from llama_index.schema import TextNode\n",
    "import chromadb\n",
    "import os"
   ]
  },
  {
   "cell_type": "code",
   "execution_count": 11,
   "outputs": [],
   "source": [
    "embed_model = HuggingFaceEmbedding(model_name=\"BAAI/bge-small-en-v1.5\")\n",
    "\n",
    "# Text chunking configuration\n"
   ],
   "metadata": {
    "collapsed": false,
    "ExecuteTime": {
     "end_time": "2024-02-07T14:25:41.272495600Z",
     "start_time": "2024-02-07T14:25:39.786831900Z"
    }
   }
  },
  {
   "cell_type": "code",
   "execution_count": 12,
   "outputs": [],
   "source": [
    "chunk_size = 500  # Fixed chunk size in characters\n",
    "text_splitter = SentenceSplitter(chunk_size=chunk_size, chunk_overlap=0)"
   ],
   "metadata": {
    "collapsed": false,
    "ExecuteTime": {
     "end_time": "2024-02-07T14:25:41.938477600Z",
     "start_time": "2024-02-07T14:25:41.919964200Z"
    }
   }
  },
  {
   "cell_type": "code",
   "execution_count": 13,
   "outputs": [],
   "source": [
    "chroma_db_path = \"./chroma_db\"\n",
    "chroma_db = chromadb.PersistentClient(path=chroma_db_path)\n",
    "chroma_collection = chroma_db.get_or_create_collection(\"aws_documentation\")"
   ],
   "metadata": {
    "collapsed": false,
    "ExecuteTime": {
     "end_time": "2024-02-07T14:25:43.188739500Z",
     "start_time": "2024-02-07T14:25:43.117117600Z"
    }
   }
  },
  {
   "cell_type": "code",
   "execution_count": 14,
   "metadata": {
    "collapsed": false,
    "ExecuteTime": {
     "end_time": "2024-02-07T14:25:44.373086800Z",
     "start_time": "2024-02-07T14:25:44.276656700Z"
    }
   },
   "outputs": [],
   "source": [
    "#for ingestion pipeline we can set up a s3 bucket. user inputs their files -> sent to s3 bucket. We retrieve file from s3 and put it through the pipeline.\n",
    "documents = (\n",
    "    SimpleDirectoryReader(input_dir=\"C:/Users/Adel/Desktop/aws-documentation-main/aws-documentation-main/documents/alexa-for-business-administration-guide/doc_source\", recursive=False, required_exts=[\".md\" , \".pdf\"]).load_data())\n"
   ]
  },
  {
   "cell_type": "code",
   "execution_count": 16,
   "outputs": [],
   "source": [
    "text_chunks = []\n",
    "for doc in documents:\n",
    "    cur_text_chunks = text_splitter.split_text(doc.text)\n",
    "    text_chunks.extend(cur_text_chunks)"
   ],
   "metadata": {
    "collapsed": false,
    "ExecuteTime": {
     "end_time": "2024-02-07T14:25:58.159762300Z",
     "start_time": "2024-02-07T14:25:57.811586800Z"
    }
   }
  },
  {
   "cell_type": "code",
   "execution_count": 22,
   "outputs": [],
   "source": [
    "embeddings = []\n",
    "metadatas = []\n",
    "documents = []\n",
    "ids = []\n",
    "for i, chunk in enumerate(text_chunks):\n",
    "    node = TextNode(text=chunk)\n",
    "    node_embedding = embed_model.get_text_embedding(node.get_content())\n",
    "    embeddings.append(node_embedding)\n",
    "    if not node.metadata:\n",
    "        node.metadata = {\"AWS Documentation\" : chunk}  # Set a default metadata\n",
    "        metadatas.append(node.metadata)\n",
    "    documents.append(chunk)\n",
    "    ids.append(str(i)) "
   ],
   "metadata": {
    "collapsed": false,
    "ExecuteTime": {
     "end_time": "2024-02-07T14:33:58.788662900Z",
     "start_time": "2024-02-07T14:33:12.676063500Z"
    }
   }
  },
  {
   "cell_type": "code",
   "execution_count": 23,
   "outputs": [
    {
     "name": "stderr",
     "output_type": "stream",
     "text": [
      "Add of existing embedding ID: 0\n",
      "Add of existing embedding ID: 1\n",
      "Add of existing embedding ID: 2\n",
      "Add of existing embedding ID: 3\n",
      "Add of existing embedding ID: 4\n",
      "Add of existing embedding ID: 5\n",
      "Add of existing embedding ID: 6\n",
      "Add of existing embedding ID: 7\n",
      "Add of existing embedding ID: 8\n",
      "Add of existing embedding ID: 9\n",
      "Add of existing embedding ID: 10\n",
      "Add of existing embedding ID: 11\n",
      "Add of existing embedding ID: 12\n",
      "Add of existing embedding ID: 13\n",
      "Add of existing embedding ID: 14\n",
      "Add of existing embedding ID: 15\n",
      "Add of existing embedding ID: 16\n",
      "Add of existing embedding ID: 17\n",
      "Add of existing embedding ID: 18\n",
      "Add of existing embedding ID: 19\n",
      "Add of existing embedding ID: 20\n",
      "Add of existing embedding ID: 21\n",
      "Add of existing embedding ID: 22\n",
      "Add of existing embedding ID: 23\n",
      "Add of existing embedding ID: 24\n",
      "Add of existing embedding ID: 25\n",
      "Add of existing embedding ID: 26\n",
      "Add of existing embedding ID: 27\n",
      "Add of existing embedding ID: 28\n",
      "Add of existing embedding ID: 29\n",
      "Add of existing embedding ID: 30\n",
      "Add of existing embedding ID: 31\n",
      "Add of existing embedding ID: 32\n",
      "Add of existing embedding ID: 33\n",
      "Add of existing embedding ID: 34\n",
      "Add of existing embedding ID: 35\n",
      "Add of existing embedding ID: 36\n",
      "Add of existing embedding ID: 37\n",
      "Add of existing embedding ID: 38\n",
      "Add of existing embedding ID: 39\n",
      "Add of existing embedding ID: 40\n",
      "Add of existing embedding ID: 41\n",
      "Add of existing embedding ID: 42\n",
      "Add of existing embedding ID: 43\n",
      "Add of existing embedding ID: 44\n",
      "Add of existing embedding ID: 45\n",
      "Add of existing embedding ID: 46\n",
      "Add of existing embedding ID: 47\n",
      "Add of existing embedding ID: 48\n",
      "Add of existing embedding ID: 49\n",
      "Add of existing embedding ID: 50\n",
      "Add of existing embedding ID: 51\n",
      "Add of existing embedding ID: 52\n",
      "Add of existing embedding ID: 53\n",
      "Add of existing embedding ID: 54\n",
      "Add of existing embedding ID: 55\n",
      "Add of existing embedding ID: 56\n",
      "Add of existing embedding ID: 57\n",
      "Add of existing embedding ID: 58\n",
      "Add of existing embedding ID: 59\n",
      "Add of existing embedding ID: 60\n",
      "Add of existing embedding ID: 61\n",
      "Add of existing embedding ID: 62\n",
      "Add of existing embedding ID: 63\n",
      "Add of existing embedding ID: 64\n",
      "Add of existing embedding ID: 65\n",
      "Add of existing embedding ID: 66\n",
      "Add of existing embedding ID: 67\n",
      "Add of existing embedding ID: 68\n",
      "Add of existing embedding ID: 69\n",
      "Add of existing embedding ID: 70\n",
      "Add of existing embedding ID: 71\n",
      "Add of existing embedding ID: 72\n",
      "Add of existing embedding ID: 73\n",
      "Add of existing embedding ID: 74\n",
      "Add of existing embedding ID: 75\n",
      "Add of existing embedding ID: 76\n",
      "Add of existing embedding ID: 77\n",
      "Add of existing embedding ID: 78\n",
      "Add of existing embedding ID: 79\n",
      "Add of existing embedding ID: 80\n",
      "Add of existing embedding ID: 81\n",
      "Add of existing embedding ID: 82\n",
      "Add of existing embedding ID: 83\n",
      "Add of existing embedding ID: 84\n",
      "Add of existing embedding ID: 85\n",
      "Add of existing embedding ID: 86\n",
      "Add of existing embedding ID: 87\n",
      "Add of existing embedding ID: 88\n",
      "Add of existing embedding ID: 89\n",
      "Add of existing embedding ID: 90\n",
      "Add of existing embedding ID: 91\n",
      "Add of existing embedding ID: 92\n",
      "Add of existing embedding ID: 93\n",
      "Add of existing embedding ID: 94\n",
      "Add of existing embedding ID: 95\n",
      "Add of existing embedding ID: 96\n",
      "Add of existing embedding ID: 97\n",
      "Add of existing embedding ID: 98\n",
      "Add of existing embedding ID: 99\n",
      "Add of existing embedding ID: 100\n",
      "Add of existing embedding ID: 101\n",
      "Add of existing embedding ID: 102\n",
      "Add of existing embedding ID: 103\n",
      "Add of existing embedding ID: 104\n",
      "Add of existing embedding ID: 105\n",
      "Add of existing embedding ID: 106\n",
      "Add of existing embedding ID: 107\n",
      "Add of existing embedding ID: 108\n",
      "Add of existing embedding ID: 109\n",
      "Add of existing embedding ID: 110\n",
      "Add of existing embedding ID: 111\n",
      "Insert of existing embedding ID: 0\n",
      "Insert of existing embedding ID: 1\n",
      "Insert of existing embedding ID: 2\n",
      "Insert of existing embedding ID: 3\n",
      "Insert of existing embedding ID: 4\n",
      "Insert of existing embedding ID: 5\n",
      "Insert of existing embedding ID: 6\n",
      "Insert of existing embedding ID: 7\n",
      "Insert of existing embedding ID: 8\n",
      "Insert of existing embedding ID: 9\n",
      "Insert of existing embedding ID: 10\n",
      "Insert of existing embedding ID: 11\n",
      "Insert of existing embedding ID: 12\n",
      "Insert of existing embedding ID: 13\n",
      "Insert of existing embedding ID: 14\n",
      "Insert of existing embedding ID: 15\n",
      "Insert of existing embedding ID: 16\n",
      "Insert of existing embedding ID: 17\n",
      "Insert of existing embedding ID: 18\n",
      "Insert of existing embedding ID: 19\n",
      "Insert of existing embedding ID: 20\n",
      "Insert of existing embedding ID: 21\n",
      "Insert of existing embedding ID: 22\n",
      "Insert of existing embedding ID: 23\n",
      "Insert of existing embedding ID: 24\n",
      "Insert of existing embedding ID: 25\n",
      "Insert of existing embedding ID: 26\n",
      "Insert of existing embedding ID: 27\n",
      "Insert of existing embedding ID: 28\n",
      "Insert of existing embedding ID: 29\n",
      "Insert of existing embedding ID: 30\n",
      "Insert of existing embedding ID: 31\n",
      "Insert of existing embedding ID: 32\n",
      "Insert of existing embedding ID: 33\n",
      "Insert of existing embedding ID: 34\n",
      "Insert of existing embedding ID: 35\n",
      "Insert of existing embedding ID: 36\n",
      "Insert of existing embedding ID: 37\n",
      "Insert of existing embedding ID: 38\n",
      "Insert of existing embedding ID: 39\n",
      "Insert of existing embedding ID: 40\n",
      "Insert of existing embedding ID: 41\n",
      "Insert of existing embedding ID: 42\n",
      "Insert of existing embedding ID: 43\n",
      "Insert of existing embedding ID: 44\n",
      "Insert of existing embedding ID: 45\n",
      "Insert of existing embedding ID: 46\n",
      "Insert of existing embedding ID: 47\n",
      "Insert of existing embedding ID: 48\n",
      "Insert of existing embedding ID: 49\n",
      "Insert of existing embedding ID: 50\n",
      "Insert of existing embedding ID: 51\n",
      "Insert of existing embedding ID: 52\n",
      "Insert of existing embedding ID: 53\n",
      "Insert of existing embedding ID: 54\n",
      "Insert of existing embedding ID: 55\n",
      "Insert of existing embedding ID: 56\n",
      "Insert of existing embedding ID: 57\n",
      "Insert of existing embedding ID: 58\n",
      "Insert of existing embedding ID: 59\n",
      "Insert of existing embedding ID: 60\n",
      "Insert of existing embedding ID: 61\n",
      "Insert of existing embedding ID: 62\n",
      "Insert of existing embedding ID: 63\n",
      "Insert of existing embedding ID: 64\n",
      "Insert of existing embedding ID: 65\n",
      "Insert of existing embedding ID: 66\n",
      "Insert of existing embedding ID: 67\n",
      "Insert of existing embedding ID: 68\n",
      "Insert of existing embedding ID: 69\n",
      "Insert of existing embedding ID: 70\n",
      "Insert of existing embedding ID: 71\n",
      "Insert of existing embedding ID: 72\n",
      "Insert of existing embedding ID: 73\n",
      "Insert of existing embedding ID: 74\n",
      "Insert of existing embedding ID: 75\n",
      "Insert of existing embedding ID: 76\n",
      "Insert of existing embedding ID: 77\n",
      "Insert of existing embedding ID: 78\n",
      "Insert of existing embedding ID: 79\n",
      "Insert of existing embedding ID: 80\n",
      "Insert of existing embedding ID: 81\n",
      "Insert of existing embedding ID: 82\n",
      "Insert of existing embedding ID: 83\n",
      "Insert of existing embedding ID: 84\n",
      "Insert of existing embedding ID: 85\n",
      "Insert of existing embedding ID: 86\n",
      "Insert of existing embedding ID: 87\n",
      "Insert of existing embedding ID: 88\n",
      "Insert of existing embedding ID: 89\n",
      "Insert of existing embedding ID: 90\n",
      "Insert of existing embedding ID: 91\n",
      "Insert of existing embedding ID: 92\n",
      "Insert of existing embedding ID: 93\n",
      "Insert of existing embedding ID: 94\n",
      "Insert of existing embedding ID: 95\n",
      "Insert of existing embedding ID: 96\n",
      "Insert of existing embedding ID: 97\n",
      "Insert of existing embedding ID: 98\n",
      "Insert of existing embedding ID: 99\n",
      "Insert of existing embedding ID: 100\n",
      "Insert of existing embedding ID: 101\n",
      "Insert of existing embedding ID: 102\n",
      "Insert of existing embedding ID: 103\n",
      "Insert of existing embedding ID: 104\n",
      "Insert of existing embedding ID: 105\n",
      "Insert of existing embedding ID: 106\n",
      "Insert of existing embedding ID: 107\n",
      "Insert of existing embedding ID: 108\n",
      "Insert of existing embedding ID: 109\n",
      "Insert of existing embedding ID: 110\n",
      "Insert of existing embedding ID: 111\n"
     ]
    }
   ],
   "source": [
    "chroma_collection.add(\n",
    "    embeddings=embeddings,\n",
    "    metadatas=metadatas,\n",
    "    documents=documents,\n",
    "    ids=ids\n",
    ")"
   ],
   "metadata": {
    "collapsed": false
   }
  },
  {
   "cell_type": "code",
   "execution_count": 34,
   "outputs": [],
   "source": [
    "query_str = \"Can you tell me about alexa for business\"\n"
   ],
   "metadata": {
    "collapsed": false,
    "ExecuteTime": {
     "end_time": "2024-02-07T14:43:09.665536500Z",
     "start_time": "2024-02-07T14:43:09.639161600Z"
    }
   }
  },
  {
   "cell_type": "code",
   "execution_count": 35,
   "outputs": [
    {
     "name": "stderr",
     "output_type": "stream",
     "text": [
      "AVX = 1 | AVX_VNNI = 0 | AVX2 = 1 | AVX512 = 0 | AVX512_VBMI = 0 | AVX512_VNNI = 0 | FMA = 1 | NEON = 0 | ARM_FMA = 0 | F16C = 1 | FP16_VA = 0 | WASM_SIMD = 0 | BLAS = 0 | SSE3 = 1 | SSSE3 = 0 | VSX = 0 | \n",
      "Model metadata: {'general.name': 'LLaMA v2', 'general.architecture': 'llama', 'llama.context_length': '4096', 'llama.rope.dimension_count': '128', 'llama.embedding_length': '5120', 'llama.block_count': '40', 'llama.feed_forward_length': '13824', 'llama.attention.head_count': '40', 'tokenizer.ggml.eos_token_id': '2', 'general.file_type': '2', 'llama.attention.head_count_kv': '40', 'llama.attention.layer_norm_rms_epsilon': '0.000010', 'tokenizer.ggml.model': 'llama', 'general.quantization_version': '2', 'tokenizer.ggml.bos_token_id': '1', 'tokenizer.ggml.unknown_token_id': '0'}\n"
     ]
    }
   ],
   "source": [
    "from llama_index.llms import LlamaCPP\n",
    "\n",
    "model_url = \"https://huggingface.co/TheBloke/Llama-2-13B-chat-GGUF/resolve/main/llama-2-13b-chat.Q4_0.gguf\" #using 13b for the time being until i can confirm that everything is working 100%\n",
    "##you can change to 70b by just replacing the linkg\n",
    "\n",
    "llm = LlamaCPP(\n",
    "    # You can pass in the URL to a GGML model to download it automatically\n",
    "    model_url=model_url,\n",
    "    # optionally, you can set the path to a pre-downloaded model instead of model_url\n",
    "    model_path=None,\n",
    "    temperature=0.1,\n",
    "    max_new_tokens=256,\n",
    "    # llama2 has a context window of 4096 tokens, but we set it lower to allow for some wiggle room\n",
    "    context_window=3900,\n",
    "    # kwargs to pass to __call__()\n",
    "    generate_kwargs={},\n",
    "    # kwargs to pass to __init__()\n",
    "    # set to at least 1 to use GPU\n",
    "    model_kwargs={\"n_gpu_layers\": 1},\n",
    "    verbose=True,\n",
    ")"
   ],
   "metadata": {
    "collapsed": false,
    "ExecuteTime": {
     "end_time": "2024-02-07T14:43:13.689146400Z",
     "start_time": "2024-02-07T14:43:10.867592800Z"
    }
   }
  },
  {
   "cell_type": "code",
   "execution_count": 36,
   "outputs": [],
   "source": [
    "query_embedding = embed_model.get_query_embedding(query_str)"
   ],
   "metadata": {
    "collapsed": false,
    "ExecuteTime": {
     "end_time": "2024-02-07T14:44:20.893916900Z",
     "start_time": "2024-02-07T14:44:20.671066100Z"
    }
   }
  },
  {
   "cell_type": "code",
   "execution_count": 37,
   "outputs": [],
   "source": [
    "from llama_index.vector_stores import VectorStoreQuery\n",
    "\n",
    "query_mode = \"default\"\n",
    "# query_mode = \"sparse\"\n",
    "# query_mode = \"hybrid\"\n",
    "\n",
    "vector_store_query = VectorStoreQuery(\n",
    "    query_embedding=query_embedding, similarity_top_k=2, mode=query_mode\n",
    ")"
   ],
   "metadata": {
    "collapsed": false,
    "ExecuteTime": {
     "end_time": "2024-02-07T14:44:21.863258800Z",
     "start_time": "2024-02-07T14:44:21.837716900Z"
    }
   }
  },
  {
   "cell_type": "code",
   "execution_count": 41,
   "outputs": [
    {
     "ename": "ValueError",
     "evalue": "Expected embeddings to be a list, got VectorStoreQuery(query_embedding=[0.022433791309595108, -0.09785578399896622, -0.011647995561361313, 0.006709470879286528, 0.011408106423914433, -0.013800844550132751, 0.04528016597032547, 0.06373386830091476, -0.02525698021054268, 0.0414503738284111, 0.009026887826621532, 0.07963839918375015, -0.014284857548773289, -0.02764747478067875, 0.02016776241362095, 0.03039521723985672, 0.06011497229337692, -0.10150458663702011, -0.0508599616587162, 0.004058341030031443, 0.07232792675495148, 0.023175304755568504, -0.09448248893022537, 0.016420023515820503, -0.05738189443945885, -0.030371155589818954, 0.009154521860182285, -0.02135523036122322, -0.057115212082862854, -0.08295891433954239, 0.019572829827666283, -0.037262093275785446, 0.06178784370422363, 0.08227599412202835, 0.05767480656504631, 0.06485921144485474, 0.020707594230771065, 0.02573552541434765, 0.03777938708662987, 0.026480207219719887, 0.006713313050568104, -0.03499256446957588, -0.0013600416714325547, -0.012239889241755009, 0.007091591600328684, -0.046415187418460846, 0.0643308237195015, 0.018390053883194923, -0.09910266846418381, -0.029807452112436295, -0.022079257294535637, -0.06048470363020897, -0.03796931728720665, -0.030020812526345253, -0.025493141263723373, 0.04054267331957817, 0.04166460037231445, 0.09124202281236649, 0.0531955249607563, 0.005770345218479633, 0.047410257160663605, -0.020604897290468216, -0.16659682989120483, 0.11953552067279816, -0.08995447307825089, 0.020028438419103622, -0.06383820623159409, -0.0829775482416153, -0.010319167748093605, 0.012220848351716995, -0.011628995649516582, -0.05131375044584274, -0.02564379759132862, 0.024464773014187813, 0.03586006537079811, 0.021184979006648064, 0.04146875441074371, 0.01966315694153309, -0.018113011494278908, 0.025765396654605865, -0.01849163882434368, -0.0013054091250523925, -0.05043789744377136, -0.0024472586810588837, -0.0392380952835083, -0.022747186943888664, -0.008403707295656204, 0.026766866445541382, 0.025297511368989944, -0.030369754880666733, -0.03243283927440643, 0.04089253023266792, -0.024797698482871056, -0.015898369252681732, -0.035098738968372345, -0.05960705876350403, -0.02203255146741867, -0.011342865414917469, -0.07040940225124359, 0.36592596769332886, 0.02786353975534439, -0.024355709552764893, 0.016358081251382828, -0.10553897172212601, -0.006396922282874584, -0.03889603540301323, -0.015945924445986748, -0.004454701207578182, 0.011249895207583904, 0.06747816503047943, 0.02506866678595543, 0.017980867996811867, 0.017718123272061348, -0.03134008124470711, -0.0042113340459764, 0.038551539182662964, -0.023517761379480362, 0.02712131477892399, 0.04675894230604172, -0.00026887949206866324, -0.006274671293795109, 0.01863894984126091, 0.04541603475809097, 0.044797156006097794, 0.0006671423325315118, -0.04074341803789139, 0.09935265779495239, 0.04151897877454758, -0.024970855563879013, 0.034027501940727234, 0.023354629054665565, -0.036111317574977875, -0.03588811680674553, 0.019871700555086136, 0.07213141769170761, 0.023658467456698418, -0.03750062733888626, 0.0120955565944314, 0.06923491507768631, 0.10156485438346863, -0.009526669979095459, -0.004403043072670698, 0.02904336154460907, -0.013108516111969948, -0.011407683603465557, 0.049877021461725235, -0.005831009708344936, -4.448149411473423e-05, -0.009419643320143223, 0.04169754683971405, -0.027434803545475006, 0.05051903799176216, 0.0248631052672863, -0.07168268412351608, 0.054642047733068466, 0.025281468406319618, 0.05840597301721573, -9.544625208945945e-05, -0.020953364670276642, -0.043521955609321594, -0.04350104182958603, -0.05123862624168396, 0.010753199458122253, 0.051363881677389145, -0.044097770005464554, -0.1720910370349884, -0.0393562987446785, -0.015030371956527233, -0.0609569288790226, -0.0018626641249284148, -0.013878093101084232, -0.030657364055514336, -0.024010075256228447, 0.04619278386235237, 0.021528365090489388, -0.03936125710606575, -0.04140930995345116, -0.0029200157150626183, 0.007711682002991438, -0.008138624019920826, -0.02349465899169445, -0.03150226175785065, 0.03156750649213791, -0.018602965399622917, -0.011663773097097874, -0.05088019371032715, 0.027936536818742752, -0.005960078444331884, 0.005576122552156448, -0.01645006239414215, -0.048868972808122635, 0.013832860626280308, -0.03239203616976738, 0.06104668602347374, 0.01849967986345291, -0.006951592862606049, 0.009662740863859653, 0.012235927395522594, -0.027836613357067108, -0.013054865412414074, -0.06644672155380249, 0.06380406022071838, -0.04535575956106186, 0.03981930390000343, 0.024619847536087036, 0.014093460515141487, 0.026986781507730484, 0.02603948675096035, 0.07245494425296783, -0.06107880920171738, -0.039692532271146774, 0.014600586146116257, -0.0030056890100240707, -0.032304421067237854, -0.053139325231313705, 0.03756565973162651, -0.003833919297903776, 0.07285767793655396, -0.02912561595439911, 0.008191032335162163, -0.01720835641026497, 0.02436177246272564, -0.06177137792110443, -0.26731184124946594, 0.0047192699275910854, -0.02585742436349392, 0.06435469537973404, -0.027667243033647537, -0.062989741563797, 0.03377450630068779, 0.005012255162000656, 0.02529059164226055, 0.07953517884016037, 0.06254047900438309, -0.024674929678440094, 0.010416599921882153, -0.015939252451062202, -0.002732065273448825, 0.06301581114530563, -0.006761473603546619, -0.003098508110269904, -0.014440787956118584, 0.01372620090842247, 0.05497254803776741, -0.014277317561209202, -0.012842793948948383, -0.06862307339906693, 0.03597058355808258, -0.016708500683307648, 0.10460367798805237, -0.09790302067995071, 0.033603742718696594, -0.01490076445043087, 0.0617438368499279, -0.025649193674325943, -0.07157918065786362, -0.12049221247434616, 0.04861922189593315, 0.002441797638311982, 0.04283028841018677, -0.03766424208879471, -0.031070547178387642, -0.001311064581386745, -0.11738420277833939, 0.012454807758331299, -0.07088644802570343, -0.006829085294157267, -5.105545824335422e-06, 0.003293014131486416, 0.030182750895619392, 0.010856378823518753, -0.03883705660700798, 0.07239911705255508, -0.01956578530371189, 0.04193070903420448, 0.0010250763734802604, 0.035938795655965805, -0.014671911485493183, -0.03888959810137749, -0.015049786306917667, 0.01584896259009838, -0.04661964252591133, 0.00010596050560707226, -0.0024831390473991632, -0.011250073090195656, 0.004468638449907303, 0.019607581198215485, 0.03911062330007553, -0.008382024243474007, -0.0296130683273077, 0.03159675374627113, 0.011533263139426708, -0.040991418063640594, 0.013589788228273392, 0.09252112358808517, -0.00382716185413301, 0.06819342076778412, 0.0590517483651638, -0.008249781094491482, 0.05701811984181404, -0.0435420423746109, -0.0066399588249623775, -0.0010389417875558138, 0.0291204284876585, 0.0032985536381602287, 0.04556667059659958, 0.023221788927912712, 0.0009170342236757278, 0.02976597286760807, 0.09762716293334961, -0.0797174796462059, -0.008480783551931381, -0.014664300717413425, -0.048933010548353195, -0.0157981775701046, -0.01508296187967062, -0.05685306340456009, 0.0714716911315918, -0.05060490965843201, -0.2301204800605774, 0.014342772774398327, -0.03348624333739281, 0.021723903715610504, -0.02527402713894844, 0.028880111873149872, -0.039282117038965225, -0.06487762182950974, -0.02150079421699047, 0.018861128017306328, 0.028108689934015274, -0.02225518226623535, 0.0034982834476977587, -0.01205652765929699, 0.11412912607192993, 0.030816923826932907, 0.07538995146751404, 0.027415230870246887, -0.014033844694495201, -0.003078683279454708, 0.02247648313641548, -0.002690807217732072, 0.12705068290233612, 0.06385978311300278, -0.05376167967915535, -0.01374832820147276, -0.0097331702709198, 0.00827879086136818, 0.05749678239226341, -0.041085947304964066, -0.00041676388354972005, -0.017810413613915443, 0.10181025415658951, -0.03653325140476227, 0.006486999336630106, -0.10865379124879837, -0.03461664542555809, 0.046486157923936844, 0.04531239718198776, -0.02683793008327484, 0.030239183455705643, -0.025950780138373375, -0.006100566126406193, -0.007215396501123905, 0.04836620017886162, 0.0348120741546154, -0.03611009567975998, -0.035096425563097, -0.0020851169247180223, 0.030994225293397903, 0.00494561530649662, -0.05890528857707977, 0.03354892134666443, 0.030263541266322136, -0.0057157124392688274, 0.055941250175237656, -0.009317860007286072, -0.056796155869960785, -0.00624654209241271, 0.009344944730401039, 0.01679193042218685, 0.028785984963178635, 0.025639839470386505, 0.061243053525686264, 0.03044206276535988], similarity_top_k=2, doc_ids=None, node_ids=None, query_str=None, output_fields=None, embedding_field=None, mode='default', alpha=None, filters=None, mmr_threshold=None, sparse_top_k=None, hybrid_top_k=None)",
     "output_type": "error",
     "traceback": [
      "\u001B[1;31m---------------------------------------------------------------------------\u001B[0m",
      "\u001B[1;31mValueError\u001B[0m                                Traceback (most recent call last)",
      "Cell \u001B[1;32mIn[41], line 1\u001B[0m\n\u001B[1;32m----> 1\u001B[0m query_result \u001B[38;5;241m=\u001B[39m \u001B[43mchroma_collection\u001B[49m\u001B[38;5;241;43m.\u001B[39;49m\u001B[43mquery\u001B[49m\u001B[43m(\u001B[49m\u001B[43mvector_store_query\u001B[49m\u001B[43m)\u001B[49m\n\u001B[0;32m      2\u001B[0m \u001B[38;5;28mprint\u001B[39m(query_result\u001B[38;5;241m.\u001B[39mnodes[\u001B[38;5;241m0\u001B[39m]\u001B[38;5;241m.\u001B[39mget_content())\n",
      "File \u001B[1;32m~\\PycharmProjects\\pythonProject3\\venv\\Lib\\site-packages\\chromadb\\api\\models\\Collection.py:300\u001B[0m, in \u001B[0;36mCollection.query\u001B[1;34m(self, query_embeddings, query_texts, query_images, query_uris, n_results, where, where_document, include)\u001B[0m\n\u001B[0;32m    295\u001B[0m valid_where \u001B[38;5;241m=\u001B[39m validate_where(where) \u001B[38;5;28;01mif\u001B[39;00m where \u001B[38;5;28;01melse\u001B[39;00m {}\n\u001B[0;32m    296\u001B[0m valid_where_document \u001B[38;5;241m=\u001B[39m (\n\u001B[0;32m    297\u001B[0m     validate_where_document(where_document) \u001B[38;5;28;01mif\u001B[39;00m where_document \u001B[38;5;28;01melse\u001B[39;00m {}\n\u001B[0;32m    298\u001B[0m )\n\u001B[0;32m    299\u001B[0m valid_query_embeddings \u001B[38;5;241m=\u001B[39m (\n\u001B[1;32m--> 300\u001B[0m     \u001B[43mvalidate_embeddings\u001B[49m\u001B[43m(\u001B[49m\n\u001B[0;32m    301\u001B[0m \u001B[43m        \u001B[49m\u001B[38;5;28;43mself\u001B[39;49m\u001B[38;5;241;43m.\u001B[39;49m\u001B[43m_normalize_embeddings\u001B[49m\u001B[43m(\u001B[49m\n\u001B[0;32m    302\u001B[0m \u001B[43m            \u001B[49m\u001B[43mmaybe_cast_one_to_many_embedding\u001B[49m\u001B[43m(\u001B[49m\u001B[43mquery_embeddings\u001B[49m\u001B[43m)\u001B[49m\n\u001B[0;32m    303\u001B[0m \u001B[43m        \u001B[49m\u001B[43m)\u001B[49m\n\u001B[0;32m    304\u001B[0m \u001B[43m    \u001B[49m\u001B[43m)\u001B[49m\n\u001B[0;32m    305\u001B[0m     \u001B[38;5;28;01mif\u001B[39;00m query_embeddings \u001B[38;5;129;01mis\u001B[39;00m \u001B[38;5;129;01mnot\u001B[39;00m \u001B[38;5;28;01mNone\u001B[39;00m\n\u001B[0;32m    306\u001B[0m     \u001B[38;5;28;01melse\u001B[39;00m \u001B[38;5;28;01mNone\u001B[39;00m\n\u001B[0;32m    307\u001B[0m )\n\u001B[0;32m    308\u001B[0m valid_query_texts \u001B[38;5;241m=\u001B[39m (\n\u001B[0;32m    309\u001B[0m     maybe_cast_one_to_many_document(query_texts)\n\u001B[0;32m    310\u001B[0m     \u001B[38;5;28;01mif\u001B[39;00m query_texts \u001B[38;5;129;01mis\u001B[39;00m \u001B[38;5;129;01mnot\u001B[39;00m \u001B[38;5;28;01mNone\u001B[39;00m\n\u001B[0;32m    311\u001B[0m     \u001B[38;5;28;01melse\u001B[39;00m \u001B[38;5;28;01mNone\u001B[39;00m\n\u001B[0;32m    312\u001B[0m )\n\u001B[0;32m    313\u001B[0m valid_query_images \u001B[38;5;241m=\u001B[39m (\n\u001B[0;32m    314\u001B[0m     maybe_cast_one_to_many_image(query_images)\n\u001B[0;32m    315\u001B[0m     \u001B[38;5;28;01mif\u001B[39;00m query_images \u001B[38;5;129;01mis\u001B[39;00m \u001B[38;5;129;01mnot\u001B[39;00m \u001B[38;5;28;01mNone\u001B[39;00m\n\u001B[0;32m    316\u001B[0m     \u001B[38;5;28;01melse\u001B[39;00m \u001B[38;5;28;01mNone\u001B[39;00m\n\u001B[0;32m    317\u001B[0m )\n",
      "File \u001B[1;32m~\\PycharmProjects\\pythonProject3\\venv\\Lib\\site-packages\\chromadb\\api\\types.py:455\u001B[0m, in \u001B[0;36mvalidate_embeddings\u001B[1;34m(embeddings)\u001B[0m\n\u001B[0;32m    453\u001B[0m \u001B[38;5;250m\u001B[39m\u001B[38;5;124;03m\"\"\"Validates embeddings to ensure it is a list of list of ints, or floats\"\"\"\u001B[39;00m\n\u001B[0;32m    454\u001B[0m \u001B[38;5;28;01mif\u001B[39;00m \u001B[38;5;129;01mnot\u001B[39;00m \u001B[38;5;28misinstance\u001B[39m(embeddings, \u001B[38;5;28mlist\u001B[39m):\n\u001B[1;32m--> 455\u001B[0m     \u001B[38;5;28;01mraise\u001B[39;00m \u001B[38;5;167;01mValueError\u001B[39;00m(\u001B[38;5;124mf\u001B[39m\u001B[38;5;124m\"\u001B[39m\u001B[38;5;124mExpected embeddings to be a list, got \u001B[39m\u001B[38;5;132;01m{\u001B[39;00membeddings\u001B[38;5;132;01m}\u001B[39;00m\u001B[38;5;124m\"\u001B[39m)\n\u001B[0;32m    456\u001B[0m \u001B[38;5;28;01mif\u001B[39;00m \u001B[38;5;28mlen\u001B[39m(embeddings) \u001B[38;5;241m==\u001B[39m \u001B[38;5;241m0\u001B[39m:\n\u001B[0;32m    457\u001B[0m     \u001B[38;5;28;01mraise\u001B[39;00m \u001B[38;5;167;01mValueError\u001B[39;00m(\n\u001B[0;32m    458\u001B[0m         \u001B[38;5;124mf\u001B[39m\u001B[38;5;124m\"\u001B[39m\u001B[38;5;124mExpected embeddings to be a list with at least one item, got \u001B[39m\u001B[38;5;132;01m{\u001B[39;00membeddings\u001B[38;5;132;01m}\u001B[39;00m\u001B[38;5;124m\"\u001B[39m\n\u001B[0;32m    459\u001B[0m     )\n",
      "\u001B[1;31mValueError\u001B[0m: Expected embeddings to be a list, got VectorStoreQuery(query_embedding=[0.022433791309595108, -0.09785578399896622, -0.011647995561361313, 0.006709470879286528, 0.011408106423914433, -0.013800844550132751, 0.04528016597032547, 0.06373386830091476, -0.02525698021054268, 0.0414503738284111, 0.009026887826621532, 0.07963839918375015, -0.014284857548773289, -0.02764747478067875, 0.02016776241362095, 0.03039521723985672, 0.06011497229337692, -0.10150458663702011, -0.0508599616587162, 0.004058341030031443, 0.07232792675495148, 0.023175304755568504, -0.09448248893022537, 0.016420023515820503, -0.05738189443945885, -0.030371155589818954, 0.009154521860182285, -0.02135523036122322, -0.057115212082862854, -0.08295891433954239, 0.019572829827666283, -0.037262093275785446, 0.06178784370422363, 0.08227599412202835, 0.05767480656504631, 0.06485921144485474, 0.020707594230771065, 0.02573552541434765, 0.03777938708662987, 0.026480207219719887, 0.006713313050568104, -0.03499256446957588, -0.0013600416714325547, -0.012239889241755009, 0.007091591600328684, -0.046415187418460846, 0.0643308237195015, 0.018390053883194923, -0.09910266846418381, -0.029807452112436295, -0.022079257294535637, -0.06048470363020897, -0.03796931728720665, -0.030020812526345253, -0.025493141263723373, 0.04054267331957817, 0.04166460037231445, 0.09124202281236649, 0.0531955249607563, 0.005770345218479633, 0.047410257160663605, -0.020604897290468216, -0.16659682989120483, 0.11953552067279816, -0.08995447307825089, 0.020028438419103622, -0.06383820623159409, -0.0829775482416153, -0.010319167748093605, 0.012220848351716995, -0.011628995649516582, -0.05131375044584274, -0.02564379759132862, 0.024464773014187813, 0.03586006537079811, 0.021184979006648064, 0.04146875441074371, 0.01966315694153309, -0.018113011494278908, 0.025765396654605865, -0.01849163882434368, -0.0013054091250523925, -0.05043789744377136, -0.0024472586810588837, -0.0392380952835083, -0.022747186943888664, -0.008403707295656204, 0.026766866445541382, 0.025297511368989944, -0.030369754880666733, -0.03243283927440643, 0.04089253023266792, -0.024797698482871056, -0.015898369252681732, -0.035098738968372345, -0.05960705876350403, -0.02203255146741867, -0.011342865414917469, -0.07040940225124359, 0.36592596769332886, 0.02786353975534439, -0.024355709552764893, 0.016358081251382828, -0.10553897172212601, -0.006396922282874584, -0.03889603540301323, -0.015945924445986748, -0.004454701207578182, 0.011249895207583904, 0.06747816503047943, 0.02506866678595543, 0.017980867996811867, 0.017718123272061348, -0.03134008124470711, -0.0042113340459764, 0.038551539182662964, -0.023517761379480362, 0.02712131477892399, 0.04675894230604172, -0.00026887949206866324, -0.006274671293795109, 0.01863894984126091, 0.04541603475809097, 0.044797156006097794, 0.0006671423325315118, -0.04074341803789139, 0.09935265779495239, 0.04151897877454758, -0.024970855563879013, 0.034027501940727234, 0.023354629054665565, -0.036111317574977875, -0.03588811680674553, 0.019871700555086136, 0.07213141769170761, 0.023658467456698418, -0.03750062733888626, 0.0120955565944314, 0.06923491507768631, 0.10156485438346863, -0.009526669979095459, -0.004403043072670698, 0.02904336154460907, -0.013108516111969948, -0.011407683603465557, 0.049877021461725235, -0.005831009708344936, -4.448149411473423e-05, -0.009419643320143223, 0.04169754683971405, -0.027434803545475006, 0.05051903799176216, 0.0248631052672863, -0.07168268412351608, 0.054642047733068466, 0.025281468406319618, 0.05840597301721573, -9.544625208945945e-05, -0.020953364670276642, -0.043521955609321594, -0.04350104182958603, -0.05123862624168396, 0.010753199458122253, 0.051363881677389145, -0.044097770005464554, -0.1720910370349884, -0.0393562987446785, -0.015030371956527233, -0.0609569288790226, -0.0018626641249284148, -0.013878093101084232, -0.030657364055514336, -0.024010075256228447, 0.04619278386235237, 0.021528365090489388, -0.03936125710606575, -0.04140930995345116, -0.0029200157150626183, 0.007711682002991438, -0.008138624019920826, -0.02349465899169445, -0.03150226175785065, 0.03156750649213791, -0.018602965399622917, -0.011663773097097874, -0.05088019371032715, 0.027936536818742752, -0.005960078444331884, 0.005576122552156448, -0.01645006239414215, -0.048868972808122635, 0.013832860626280308, -0.03239203616976738, 0.06104668602347374, 0.01849967986345291, -0.006951592862606049, 0.009662740863859653, 0.012235927395522594, -0.027836613357067108, -0.013054865412414074, -0.06644672155380249, 0.06380406022071838, -0.04535575956106186, 0.03981930390000343, 0.024619847536087036, 0.014093460515141487, 0.026986781507730484, 0.02603948675096035, 0.07245494425296783, -0.06107880920171738, -0.039692532271146774, 0.014600586146116257, -0.0030056890100240707, -0.032304421067237854, -0.053139325231313705, 0.03756565973162651, -0.003833919297903776, 0.07285767793655396, -0.02912561595439911, 0.008191032335162163, -0.01720835641026497, 0.02436177246272564, -0.06177137792110443, -0.26731184124946594, 0.0047192699275910854, -0.02585742436349392, 0.06435469537973404, -0.027667243033647537, -0.062989741563797, 0.03377450630068779, 0.005012255162000656, 0.02529059164226055, 0.07953517884016037, 0.06254047900438309, -0.024674929678440094, 0.010416599921882153, -0.015939252451062202, -0.002732065273448825, 0.06301581114530563, -0.006761473603546619, -0.003098508110269904, -0.014440787956118584, 0.01372620090842247, 0.05497254803776741, -0.014277317561209202, -0.012842793948948383, -0.06862307339906693, 0.03597058355808258, -0.016708500683307648, 0.10460367798805237, -0.09790302067995071, 0.033603742718696594, -0.01490076445043087, 0.0617438368499279, -0.025649193674325943, -0.07157918065786362, -0.12049221247434616, 0.04861922189593315, 0.002441797638311982, 0.04283028841018677, -0.03766424208879471, -0.031070547178387642, -0.001311064581386745, -0.11738420277833939, 0.012454807758331299, -0.07088644802570343, -0.006829085294157267, -5.105545824335422e-06, 0.003293014131486416, 0.030182750895619392, 0.010856378823518753, -0.03883705660700798, 0.07239911705255508, -0.01956578530371189, 0.04193070903420448, 0.0010250763734802604, 0.035938795655965805, -0.014671911485493183, -0.03888959810137749, -0.015049786306917667, 0.01584896259009838, -0.04661964252591133, 0.00010596050560707226, -0.0024831390473991632, -0.011250073090195656, 0.004468638449907303, 0.019607581198215485, 0.03911062330007553, -0.008382024243474007, -0.0296130683273077, 0.03159675374627113, 0.011533263139426708, -0.040991418063640594, 0.013589788228273392, 0.09252112358808517, -0.00382716185413301, 0.06819342076778412, 0.0590517483651638, -0.008249781094491482, 0.05701811984181404, -0.0435420423746109, -0.0066399588249623775, -0.0010389417875558138, 0.0291204284876585, 0.0032985536381602287, 0.04556667059659958, 0.023221788927912712, 0.0009170342236757278, 0.02976597286760807, 0.09762716293334961, -0.0797174796462059, -0.008480783551931381, -0.014664300717413425, -0.048933010548353195, -0.0157981775701046, -0.01508296187967062, -0.05685306340456009, 0.0714716911315918, -0.05060490965843201, -0.2301204800605774, 0.014342772774398327, -0.03348624333739281, 0.021723903715610504, -0.02527402713894844, 0.028880111873149872, -0.039282117038965225, -0.06487762182950974, -0.02150079421699047, 0.018861128017306328, 0.028108689934015274, -0.02225518226623535, 0.0034982834476977587, -0.01205652765929699, 0.11412912607192993, 0.030816923826932907, 0.07538995146751404, 0.027415230870246887, -0.014033844694495201, -0.003078683279454708, 0.02247648313641548, -0.002690807217732072, 0.12705068290233612, 0.06385978311300278, -0.05376167967915535, -0.01374832820147276, -0.0097331702709198, 0.00827879086136818, 0.05749678239226341, -0.041085947304964066, -0.00041676388354972005, -0.017810413613915443, 0.10181025415658951, -0.03653325140476227, 0.006486999336630106, -0.10865379124879837, -0.03461664542555809, 0.046486157923936844, 0.04531239718198776, -0.02683793008327484, 0.030239183455705643, -0.025950780138373375, -0.006100566126406193, -0.007215396501123905, 0.04836620017886162, 0.0348120741546154, -0.03611009567975998, -0.035096425563097, -0.0020851169247180223, 0.030994225293397903, 0.00494561530649662, -0.05890528857707977, 0.03354892134666443, 0.030263541266322136, -0.0057157124392688274, 0.055941250175237656, -0.009317860007286072, -0.056796155869960785, -0.00624654209241271, 0.009344944730401039, 0.01679193042218685, 0.028785984963178635, 0.025639839470386505, 0.061243053525686264, 0.03044206276535988], similarity_top_k=2, doc_ids=None, node_ids=None, query_str=None, output_fields=None, embedding_field=None, mode='default', alpha=None, filters=None, mmr_threshold=None, sparse_top_k=None, hybrid_top_k=None)"
     ]
    }
   ],
   "source": [
    "query_result = chroma_collection.query(vector_store_query)\n",
    "print(query_result.nodes[0].get_content())"
   ],
   "metadata": {
    "collapsed": false,
    "ExecuteTime": {
     "end_time": "2024-02-07T14:46:56.091012300Z",
     "start_time": "2024-02-07T14:46:55.999366800Z"
    }
   }
  },
  {
   "cell_type": "code",
   "execution_count": 40,
   "outputs": [
    {
     "ename": "NameError",
     "evalue": "name 'query_result' is not defined",
     "output_type": "error",
     "traceback": [
      "\u001B[1;31m---------------------------------------------------------------------------\u001B[0m",
      "\u001B[1;31mNameError\u001B[0m                                 Traceback (most recent call last)",
      "Cell \u001B[1;32mIn[40], line 5\u001B[0m\n\u001B[0;32m      2\u001B[0m \u001B[38;5;28;01mfrom\u001B[39;00m \u001B[38;5;21;01mtyping\u001B[39;00m \u001B[38;5;28;01mimport\u001B[39;00m Optional\n\u001B[0;32m      4\u001B[0m nodes_with_scores \u001B[38;5;241m=\u001B[39m []\n\u001B[1;32m----> 5\u001B[0m \u001B[38;5;28;01mfor\u001B[39;00m index, node \u001B[38;5;129;01min\u001B[39;00m \u001B[38;5;28menumerate\u001B[39m(\u001B[43mquery_result\u001B[49m\u001B[38;5;241m.\u001B[39mnodes):\n\u001B[0;32m      6\u001B[0m     score: Optional[\u001B[38;5;28mfloat\u001B[39m] \u001B[38;5;241m=\u001B[39m \u001B[38;5;28;01mNone\u001B[39;00m\n\u001B[0;32m      7\u001B[0m     \u001B[38;5;28;01mif\u001B[39;00m query_result\u001B[38;5;241m.\u001B[39msimilarities \u001B[38;5;129;01mis\u001B[39;00m \u001B[38;5;129;01mnot\u001B[39;00m \u001B[38;5;28;01mNone\u001B[39;00m:\n",
      "\u001B[1;31mNameError\u001B[0m: name 'query_result' is not defined"
     ]
    }
   ],
   "source": [
    "from llama_index.schema import NodeWithScore\n",
    "from typing import Optional\n",
    "\n",
    "nodes_with_scores = []\n",
    "for index, node in enumerate(query_result.nodes):\n",
    "    score: Optional[float] = None\n",
    "    if query_result.similarities is not None:\n",
    "        score = query_result.similarities[index]\n",
    "    nodes_with_scores.append(NodeWithScore(node=node, score=score))"
   ],
   "metadata": {
    "collapsed": false,
    "ExecuteTime": {
     "end_time": "2024-02-07T14:45:20.223566Z",
     "start_time": "2024-02-07T14:45:20.179446300Z"
    }
   }
  },
  {
   "cell_type": "code",
   "execution_count": 53,
   "outputs": [
    {
     "ename": "ValueError",
     "evalue": "\n******\nCould not load OpenAI model. If you intended to use OpenAI, please check your OPENAI_API_KEY.\nOriginal error:\nNo API key found for OpenAI.\nPlease set either the OPENAI_API_KEY environment variable or openai.api_key prior to initialization.\nAPI keys can be found or created at https://platform.openai.com/account/api-keys\n\nTo disable the LLM entirely, set llm=None.\n******",
     "output_type": "error",
     "traceback": [
      "\u001B[1;31m---------------------------------------------------------------------------\u001B[0m",
      "\u001B[1;31mValueError\u001B[0m                                Traceback (most recent call last)",
      "File \u001B[1;32m~\\PycharmProjects\\pythonProject3\\venv\\Lib\\site-packages\\llama_index\\llms\\utils.py:29\u001B[0m, in \u001B[0;36mresolve_llm\u001B[1;34m(llm)\u001B[0m\n\u001B[0;32m     28\u001B[0m     llm \u001B[38;5;241m=\u001B[39m OpenAI()\n\u001B[1;32m---> 29\u001B[0m     \u001B[43mvalidate_openai_api_key\u001B[49m\u001B[43m(\u001B[49m\u001B[43mllm\u001B[49m\u001B[38;5;241;43m.\u001B[39;49m\u001B[43mapi_key\u001B[49m\u001B[43m)\u001B[49m\n\u001B[0;32m     30\u001B[0m \u001B[38;5;28;01mexcept\u001B[39;00m \u001B[38;5;167;01mValueError\u001B[39;00m \u001B[38;5;28;01mas\u001B[39;00m e:\n",
      "File \u001B[1;32m~\\PycharmProjects\\pythonProject3\\venv\\Lib\\site-packages\\llama_index\\llms\\openai_utils.py:383\u001B[0m, in \u001B[0;36mvalidate_openai_api_key\u001B[1;34m(api_key)\u001B[0m\n\u001B[0;32m    382\u001B[0m \u001B[38;5;28;01mif\u001B[39;00m \u001B[38;5;129;01mnot\u001B[39;00m openai_api_key:\n\u001B[1;32m--> 383\u001B[0m     \u001B[38;5;28;01mraise\u001B[39;00m \u001B[38;5;167;01mValueError\u001B[39;00m(MISSING_API_KEY_ERROR_MESSAGE)\n",
      "\u001B[1;31mValueError\u001B[0m: No API key found for OpenAI.\nPlease set either the OPENAI_API_KEY environment variable or openai.api_key prior to initialization.\nAPI keys can be found or created at https://platform.openai.com/account/api-keys\n",
      "\nDuring handling of the above exception, another exception occurred:\n",
      "\u001B[1;31mValueError\u001B[0m                                Traceback (most recent call last)",
      "Cell \u001B[1;32mIn[53], line 4\u001B[0m\n\u001B[0;32m      2\u001B[0m storage_context \u001B[38;5;241m=\u001B[39m StorageContext\u001B[38;5;241m.\u001B[39mfrom_defaults(vector_store\u001B[38;5;241m=\u001B[39mvector_store)\n\u001B[0;32m      3\u001B[0m \u001B[38;5;66;03m#service_context = ServiceContext.from_defaults(embed_model=embed_model)\u001B[39;00m\n\u001B[1;32m----> 4\u001B[0m index \u001B[38;5;241m=\u001B[39m \u001B[43mVectorStoreIndex\u001B[49m\u001B[38;5;241;43m.\u001B[39;49m\u001B[43mfrom_documents\u001B[49m\u001B[43m(\u001B[49m\n\u001B[0;32m      5\u001B[0m \u001B[43m    \u001B[49m\u001B[43mdocuments\u001B[49m\u001B[43m,\u001B[49m\u001B[43m \u001B[49m\u001B[43mstorage_context\u001B[49m\u001B[38;5;241;43m=\u001B[39;49m\u001B[43mstorage_context\u001B[49m\u001B[38;5;66;43;03m#, service_context=service_context\u001B[39;49;00m\n\u001B[0;32m      6\u001B[0m \u001B[43m)\u001B[49m\n",
      "File \u001B[1;32m~\\PycharmProjects\\pythonProject3\\venv\\Lib\\site-packages\\llama_index\\indices\\base.py:98\u001B[0m, in \u001B[0;36mBaseIndex.from_documents\u001B[1;34m(cls, documents, storage_context, service_context, show_progress, **kwargs)\u001B[0m\n\u001B[0;32m     90\u001B[0m \u001B[38;5;250m\u001B[39m\u001B[38;5;124;03m\"\"\"Create index from documents.\u001B[39;00m\n\u001B[0;32m     91\u001B[0m \n\u001B[0;32m     92\u001B[0m \u001B[38;5;124;03mArgs:\u001B[39;00m\n\u001B[1;32m   (...)\u001B[0m\n\u001B[0;32m     95\u001B[0m \n\u001B[0;32m     96\u001B[0m \u001B[38;5;124;03m\"\"\"\u001B[39;00m\n\u001B[0;32m     97\u001B[0m storage_context \u001B[38;5;241m=\u001B[39m storage_context \u001B[38;5;129;01mor\u001B[39;00m StorageContext\u001B[38;5;241m.\u001B[39mfrom_defaults()\n\u001B[1;32m---> 98\u001B[0m service_context \u001B[38;5;241m=\u001B[39m service_context \u001B[38;5;129;01mor\u001B[39;00m \u001B[43mServiceContext\u001B[49m\u001B[38;5;241;43m.\u001B[39;49m\u001B[43mfrom_defaults\u001B[49m\u001B[43m(\u001B[49m\u001B[43m)\u001B[49m\n\u001B[0;32m     99\u001B[0m docstore \u001B[38;5;241m=\u001B[39m storage_context\u001B[38;5;241m.\u001B[39mdocstore\n\u001B[0;32m    101\u001B[0m \u001B[38;5;28;01mwith\u001B[39;00m service_context\u001B[38;5;241m.\u001B[39mcallback_manager\u001B[38;5;241m.\u001B[39mas_trace(\u001B[38;5;124m\"\u001B[39m\u001B[38;5;124mindex_construction\u001B[39m\u001B[38;5;124m\"\u001B[39m):\n",
      "File \u001B[1;32m~\\PycharmProjects\\pythonProject3\\venv\\Lib\\site-packages\\llama_index\\service_context.py:178\u001B[0m, in \u001B[0;36mServiceContext.from_defaults\u001B[1;34m(cls, llm_predictor, llm, prompt_helper, embed_model, node_parser, text_splitter, transformations, llama_logger, callback_manager, system_prompt, query_wrapper_prompt, pydantic_program_mode, chunk_size, chunk_overlap, context_window, num_output, chunk_size_limit)\u001B[0m\n\u001B[0;32m    176\u001B[0m \u001B[38;5;28;01mif\u001B[39;00m llm_predictor \u001B[38;5;129;01mis\u001B[39;00m \u001B[38;5;129;01mnot\u001B[39;00m \u001B[38;5;28;01mNone\u001B[39;00m:\n\u001B[0;32m    177\u001B[0m     \u001B[38;5;28mprint\u001B[39m(\u001B[38;5;124m\"\u001B[39m\u001B[38;5;124mLLMPredictor is deprecated, please use LLM instead.\u001B[39m\u001B[38;5;124m\"\u001B[39m)\n\u001B[1;32m--> 178\u001B[0m llm_predictor \u001B[38;5;241m=\u001B[39m llm_predictor \u001B[38;5;129;01mor\u001B[39;00m \u001B[43mLLMPredictor\u001B[49m\u001B[43m(\u001B[49m\n\u001B[0;32m    179\u001B[0m \u001B[43m    \u001B[49m\u001B[43mllm\u001B[49m\u001B[38;5;241;43m=\u001B[39;49m\u001B[43mllm\u001B[49m\u001B[43m,\u001B[49m\u001B[43m \u001B[49m\u001B[43mpydantic_program_mode\u001B[49m\u001B[38;5;241;43m=\u001B[39;49m\u001B[43mpydantic_program_mode\u001B[49m\n\u001B[0;32m    180\u001B[0m \u001B[43m\u001B[49m\u001B[43m)\u001B[49m\n\u001B[0;32m    181\u001B[0m \u001B[38;5;28;01mif\u001B[39;00m \u001B[38;5;28misinstance\u001B[39m(llm_predictor, LLMPredictor):\n\u001B[0;32m    182\u001B[0m     llm_predictor\u001B[38;5;241m.\u001B[39mllm\u001B[38;5;241m.\u001B[39mcallback_manager \u001B[38;5;241m=\u001B[39m callback_manager\n",
      "File \u001B[1;32m~\\PycharmProjects\\pythonProject3\\venv\\Lib\\site-packages\\llama_index\\llm_predictor\\base.py:109\u001B[0m, in \u001B[0;36mLLMPredictor.__init__\u001B[1;34m(self, llm, callback_manager, system_prompt, query_wrapper_prompt, pydantic_program_mode)\u001B[0m\n\u001B[0;32m    100\u001B[0m \u001B[38;5;28;01mdef\u001B[39;00m \u001B[38;5;21m__init__\u001B[39m(\n\u001B[0;32m    101\u001B[0m     \u001B[38;5;28mself\u001B[39m,\n\u001B[0;32m    102\u001B[0m     llm: Optional[LLMType] \u001B[38;5;241m=\u001B[39m \u001B[38;5;124m\"\u001B[39m\u001B[38;5;124mdefault\u001B[39m\u001B[38;5;124m\"\u001B[39m,\n\u001B[1;32m   (...)\u001B[0m\n\u001B[0;32m    106\u001B[0m     pydantic_program_mode: PydanticProgramMode \u001B[38;5;241m=\u001B[39m PydanticProgramMode\u001B[38;5;241m.\u001B[39mDEFAULT,\n\u001B[0;32m    107\u001B[0m ) \u001B[38;5;241m-\u001B[39m\u001B[38;5;241m>\u001B[39m \u001B[38;5;28;01mNone\u001B[39;00m:\n\u001B[0;32m    108\u001B[0m \u001B[38;5;250m    \u001B[39m\u001B[38;5;124;03m\"\"\"Initialize params.\"\"\"\u001B[39;00m\n\u001B[1;32m--> 109\u001B[0m     \u001B[38;5;28mself\u001B[39m\u001B[38;5;241m.\u001B[39m_llm \u001B[38;5;241m=\u001B[39m \u001B[43mresolve_llm\u001B[49m\u001B[43m(\u001B[49m\u001B[43mllm\u001B[49m\u001B[43m)\u001B[49m\n\u001B[0;32m    111\u001B[0m     \u001B[38;5;28;01mif\u001B[39;00m callback_manager:\n\u001B[0;32m    112\u001B[0m         \u001B[38;5;28mself\u001B[39m\u001B[38;5;241m.\u001B[39m_llm\u001B[38;5;241m.\u001B[39mcallback_manager \u001B[38;5;241m=\u001B[39m callback_manager\n",
      "File \u001B[1;32m~\\PycharmProjects\\pythonProject3\\venv\\Lib\\site-packages\\llama_index\\llms\\utils.py:31\u001B[0m, in \u001B[0;36mresolve_llm\u001B[1;34m(llm)\u001B[0m\n\u001B[0;32m     29\u001B[0m         validate_openai_api_key(llm\u001B[38;5;241m.\u001B[39mapi_key)\n\u001B[0;32m     30\u001B[0m     \u001B[38;5;28;01mexcept\u001B[39;00m \u001B[38;5;167;01mValueError\u001B[39;00m \u001B[38;5;28;01mas\u001B[39;00m e:\n\u001B[1;32m---> 31\u001B[0m         \u001B[38;5;28;01mraise\u001B[39;00m \u001B[38;5;167;01mValueError\u001B[39;00m(\n\u001B[0;32m     32\u001B[0m             \u001B[38;5;124m\"\u001B[39m\u001B[38;5;130;01m\\n\u001B[39;00m\u001B[38;5;124m******\u001B[39m\u001B[38;5;130;01m\\n\u001B[39;00m\u001B[38;5;124m\"\u001B[39m\n\u001B[0;32m     33\u001B[0m             \u001B[38;5;124m\"\u001B[39m\u001B[38;5;124mCould not load OpenAI model. \u001B[39m\u001B[38;5;124m\"\u001B[39m\n\u001B[0;32m     34\u001B[0m             \u001B[38;5;124m\"\u001B[39m\u001B[38;5;124mIf you intended to use OpenAI, please check your OPENAI_API_KEY.\u001B[39m\u001B[38;5;130;01m\\n\u001B[39;00m\u001B[38;5;124m\"\u001B[39m\n\u001B[0;32m     35\u001B[0m             \u001B[38;5;124m\"\u001B[39m\u001B[38;5;124mOriginal error:\u001B[39m\u001B[38;5;130;01m\\n\u001B[39;00m\u001B[38;5;124m\"\u001B[39m\n\u001B[0;32m     36\u001B[0m             \u001B[38;5;124mf\u001B[39m\u001B[38;5;124m\"\u001B[39m\u001B[38;5;132;01m{\u001B[39;00me\u001B[38;5;132;01m!s}\u001B[39;00m\u001B[38;5;124m\"\u001B[39m\n\u001B[0;32m     37\u001B[0m             \u001B[38;5;124m\"\u001B[39m\u001B[38;5;130;01m\\n\u001B[39;00m\u001B[38;5;124mTo disable the LLM entirely, set llm=None.\u001B[39m\u001B[38;5;124m\"\u001B[39m\n\u001B[0;32m     38\u001B[0m             \u001B[38;5;124m\"\u001B[39m\u001B[38;5;130;01m\\n\u001B[39;00m\u001B[38;5;124m******\u001B[39m\u001B[38;5;124m\"\u001B[39m\n\u001B[0;32m     39\u001B[0m         )\n\u001B[0;32m     41\u001B[0m \u001B[38;5;28;01mif\u001B[39;00m \u001B[38;5;28misinstance\u001B[39m(llm, \u001B[38;5;28mstr\u001B[39m):\n\u001B[0;32m     42\u001B[0m     splits \u001B[38;5;241m=\u001B[39m llm\u001B[38;5;241m.\u001B[39msplit(\u001B[38;5;124m\"\u001B[39m\u001B[38;5;124m:\u001B[39m\u001B[38;5;124m\"\u001B[39m, \u001B[38;5;241m1\u001B[39m)\n",
      "\u001B[1;31mValueError\u001B[0m: \n******\nCould not load OpenAI model. If you intended to use OpenAI, please check your OPENAI_API_KEY.\nOriginal error:\nNo API key found for OpenAI.\nPlease set either the OPENAI_API_KEY environment variable or openai.api_key prior to initialization.\nAPI keys can be found or created at https://platform.openai.com/account/api-keys\n\nTo disable the LLM entirely, set llm=None.\n******"
     ]
    }
   ],
   "source": [],
   "metadata": {
    "collapsed": false,
    "ExecuteTime": {
     "start_time": "2024-02-06T12:23:43.961917800Z"
    }
   }
  },
  {
   "cell_type": "code",
   "execution_count": 10,
   "outputs": [],
   "source": [],
   "metadata": {
    "collapsed": false,
    "ExecuteTime": {
     "end_time": "2024-02-06T08:16:58.677811400Z",
     "start_time": "2024-02-06T08:16:58.674604300Z"
    }
   }
  }
 ],
 "metadata": {
  "kernelspec": {
   "display_name": "Python 3 (ipykernel)",
   "language": "python",
   "name": "python3"
  },
  "language_info": {
   "codemirror_mode": {
    "name": "ipython",
    "version": 3
   },
   "file_extension": ".py",
   "mimetype": "text/x-python",
   "name": "python",
   "nbconvert_exporter": "python",
   "pygments_lexer": "ipython3",
   "version": "3.11.5"
  }
 },
 "nbformat": 4,
 "nbformat_minor": 4
}
